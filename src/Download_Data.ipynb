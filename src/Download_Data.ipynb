{
 "cells": [
  {
   "cell_type": "code",
   "execution_count": 1,
   "metadata": {},
   "outputs": [],
   "source": [
    "%load_ext autoreload\n",
    "%autoreload 2\n",
    "from storytelling import *"
   ]
  },
  {
   "cell_type": "code",
   "execution_count": 7,
   "metadata": {},
   "outputs": [],
   "source": [
    "# select en events:\n",
    "events = pd.read_csv(\"../dat/tweeterNews/events.csv.gz\", header=None,\n",
    "                     names=[\"Num\",\"Date\",\"TotalKeyWords\",\"TotalTweets\",\"Keywoards\"], index_col=\"Num\")"
   ]
  },
  {
   "cell_type": "code",
   "execution_count": 8,
   "metadata": {},
   "outputs": [
    {
     "data": {
      "text/html": [
       "<div>\n",
       "<style scoped>\n",
       "    .dataframe tbody tr th:only-of-type {\n",
       "        vertical-align: middle;\n",
       "    }\n",
       "\n",
       "    .dataframe tbody tr th {\n",
       "        vertical-align: top;\n",
       "    }\n",
       "\n",
       "    .dataframe thead th {\n",
       "        text-align: right;\n",
       "    }\n",
       "</style>\n",
       "<table border=\"1\" class=\"dataframe\">\n",
       "  <thead>\n",
       "    <tr style=\"text-align: right;\">\n",
       "      <th></th>\n",
       "      <th>Date</th>\n",
       "      <th>TotalKeyWords</th>\n",
       "      <th>TotalTweets</th>\n",
       "      <th>Keywoards</th>\n",
       "    </tr>\n",
       "    <tr>\n",
       "      <th>Num</th>\n",
       "      <th></th>\n",
       "      <th></th>\n",
       "      <th></th>\n",
       "      <th></th>\n",
       "    </tr>\n",
       "  </thead>\n",
       "  <tbody>\n",
       "    <tr>\n",
       "      <th>4499</th>\n",
       "      <td>2014-05-28</td>\n",
       "      <td>9</td>\n",
       "      <td>510920</td>\n",
       "      <td>angelou;pakistan;life;woman;maya;risk;dies;dea...</td>\n",
       "    </tr>\n",
       "    <tr>\n",
       "      <th>4884</th>\n",
       "      <td>2014-06-12</td>\n",
       "      <td>22</td>\n",
       "      <td>452534</td>\n",
       "      <td>turtle;sao;win;national;follow;home;brazil;pol...</td>\n",
       "    </tr>\n",
       "    <tr>\n",
       "      <th>232</th>\n",
       "      <td>2013-09-10</td>\n",
       "      <td>32</td>\n",
       "      <td>423756</td>\n",
       "      <td>control;says;apple;december;india;four;gang;fo...</td>\n",
       "    </tr>\n",
       "    <tr>\n",
       "      <th>1966</th>\n",
       "      <td>2014-02-02</td>\n",
       "      <td>10</td>\n",
       "      <td>338252</td>\n",
       "      <td>fans;bowl;see;sunday;blog;game;security;xlviii...</td>\n",
       "    </tr>\n",
       "    <tr>\n",
       "      <th>1978</th>\n",
       "      <td>2014-02-03</td>\n",
       "      <td>16</td>\n",
       "      <td>313030</td>\n",
       "      <td>broncos;super;title;may;win;million;bowl;blog;...</td>\n",
       "    </tr>\n",
       "    <tr>\n",
       "      <th>1258</th>\n",
       "      <td>2013-12-31</td>\n",
       "      <td>25</td>\n",
       "      <td>308703</td>\n",
       "      <td>celebrations;photo;globe;tonight;australia;yea...</td>\n",
       "    </tr>\n",
       "    <tr>\n",
       "      <th>1861</th>\n",
       "      <td>2014-01-29</td>\n",
       "      <td>18</td>\n",
       "      <td>301448</td>\n",
       "      <td>boy;grimm;end;unemployment;veto;rep;reporter;y...</td>\n",
       "    </tr>\n",
       "    <tr>\n",
       "      <th>1738</th>\n",
       "      <td>2014-01-23</td>\n",
       "      <td>13</td>\n",
       "      <td>281559</td>\n",
       "      <td>prime;ukraine;supreme;resisting;police;justin;...</td>\n",
       "    </tr>\n",
       "    <tr>\n",
       "      <th>1689</th>\n",
       "      <td>2014-01-20</td>\n",
       "      <td>2</td>\n",
       "      <td>276219</td>\n",
       "      <td>king;luther</td>\n",
       "    </tr>\n",
       "    <tr>\n",
       "      <th>2702</th>\n",
       "      <td>2014-03-08</td>\n",
       "      <td>35</td>\n",
       "      <td>271306</td>\n",
       "      <td>spotted;hairline;photo;slicks;airlines;malaysi...</td>\n",
       "    </tr>\n",
       "  </tbody>\n",
       "</table>\n",
       "</div>"
      ],
      "text/plain": [
       "            Date  TotalKeyWords  TotalTweets  \\\n",
       "Num                                            \n",
       "4499  2014-05-28              9       510920   \n",
       "4884  2014-06-12             22       452534   \n",
       "232   2013-09-10             32       423756   \n",
       "1966  2014-02-02             10       338252   \n",
       "1978  2014-02-03             16       313030   \n",
       "1258  2013-12-31             25       308703   \n",
       "1861  2014-01-29             18       301448   \n",
       "1738  2014-01-23             13       281559   \n",
       "1689  2014-01-20              2       276219   \n",
       "2702  2014-03-08             35       271306   \n",
       "\n",
       "                                              Keywoards  \n",
       "Num                                                      \n",
       "4499  angelou;pakistan;life;woman;maya;risk;dies;dea...  \n",
       "4884  turtle;sao;win;national;follow;home;brazil;pol...  \n",
       "232   control;says;apple;december;india;four;gang;fo...  \n",
       "1966  fans;bowl;see;sunday;blog;game;security;xlviii...  \n",
       "1978  broncos;super;title;may;win;million;bowl;blog;...  \n",
       "1258  celebrations;photo;globe;tonight;australia;yea...  \n",
       "1861  boy;grimm;end;unemployment;veto;rep;reporter;y...  \n",
       "1738  prime;ukraine;supreme;resisting;police;justin;...  \n",
       "1689                                        king;luther  \n",
       "2702  spotted;hairline;photo;slicks;airlines;malaysi...  "
      ]
     },
     "execution_count": 8,
     "metadata": {},
     "output_type": "execute_result"
    }
   ],
   "source": [
    "events.sort_values(\"TotalTweets\", ascending=False).head(10)"
   ]
  },
  {
   "cell_type": "code",
   "execution_count": 9,
   "metadata": {},
   "outputs": [
    {
     "data": {
      "text/plain": [
       "'turtle;sao;win;national;follow;home;brazil;police;goal;cup;paulo;rangers;opener;take;2014;woman;opening;world;tear;continue;croatia;team'"
      ]
     },
     "execution_count": 9,
     "metadata": {},
     "output_type": "execute_result"
    }
   ],
   "source": [
    "events.loc[4884, \"Keywoards\"]"
   ]
  },
  {
   "cell_type": "code",
   "execution_count": 10,
   "metadata": {},
   "outputs": [],
   "source": [
    "tweets = pd.read_csv(\"../dat/tweeterNews/tweets.csv.gz\", names=[\"tid\", \"eid\"])"
   ]
  },
  {
   "cell_type": "code",
   "execution_count": 11,
   "metadata": {},
   "outputs": [
    {
     "data": {
      "text/html": [
       "<div>\n",
       "<style scoped>\n",
       "    .dataframe tbody tr th:only-of-type {\n",
       "        vertical-align: middle;\n",
       "    }\n",
       "\n",
       "    .dataframe tbody tr th {\n",
       "        vertical-align: top;\n",
       "    }\n",
       "\n",
       "    .dataframe thead th {\n",
       "        text-align: right;\n",
       "    }\n",
       "</style>\n",
       "<table border=\"1\" class=\"dataframe\">\n",
       "  <thead>\n",
       "    <tr style=\"text-align: right;\">\n",
       "      <th></th>\n",
       "      <th>tid</th>\n",
       "      <th>eid</th>\n",
       "    </tr>\n",
       "  </thead>\n",
       "  <tbody>\n",
       "    <tr>\n",
       "      <th>0</th>\n",
       "      <td>371043469185540096</td>\n",
       "      <td>1</td>\n",
       "    </tr>\n",
       "    <tr>\n",
       "      <th>1</th>\n",
       "      <td>371043472397987841</td>\n",
       "      <td>1</td>\n",
       "    </tr>\n",
       "  </tbody>\n",
       "</table>\n",
       "</div>"
      ],
      "text/plain": [
       "                  tid  eid\n",
       "0  371043469185540096    1\n",
       "1  371043472397987841    1"
      ]
     },
     "execution_count": 11,
     "metadata": {},
     "output_type": "execute_result"
    }
   ],
   "source": [
    "tweets.head(2)"
   ]
  },
  {
   "cell_type": "code",
   "execution_count": 12,
   "metadata": {},
   "outputs": [],
   "source": [
    "auth = tweepy.OAuthHandler(CONSUMER_KEY, CONSUMER_SECRET)\n",
    "auth.set_access_token(ACCESS_TOKEN, ACCESS_SECRET)\n",
    "api = tweepy.API(auth)"
   ]
  },
  {
   "cell_type": "code",
   "execution_count": 16,
   "metadata": {},
   "outputs": [],
   "source": [
    "event_id = 1966\n",
    "event_tweets = tweets[tweets[\"eid\"]==event_id]\n",
    "tids = list(event_tweets[\"tid\"].values)\n",
    "RetriveDataset(tids, api, \"{}.csv\".format(1966))"
   ]
  },
  {
   "cell_type": "code",
   "execution_count": null,
   "metadata": {},
   "outputs": [],
   "source": []
  }
 ],
 "metadata": {
  "kernelspec": {
   "display_name": "Python 3",
   "language": "python",
   "name": "python3"
  },
  "language_info": {
   "codemirror_mode": {
    "name": "ipython",
    "version": 3
   },
   "file_extension": ".py",
   "mimetype": "text/x-python",
   "name": "python",
   "nbconvert_exporter": "python",
   "pygments_lexer": "ipython3",
   "version": "3.7.3"
  }
 },
 "nbformat": 4,
 "nbformat_minor": 2
}
