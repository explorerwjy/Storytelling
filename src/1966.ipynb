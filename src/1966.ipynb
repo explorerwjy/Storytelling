{
 "cells": [
  {
   "cell_type": "code",
   "execution_count": 1,
   "metadata": {},
   "outputs": [],
   "source": [
    "%load_ext autoreload\n",
    "%autoreload 2\n",
    "from storytelling import *"
   ]
  },
  {
   "cell_type": "code",
   "execution_count": 71,
   "metadata": {},
   "outputs": [],
   "source": [
    "word_embeddings = LoadWordEmbeddings(fil=\"../dat/glove/glove.twitter.27B.100d.txt\")"
   ]
  },
  {
   "cell_type": "code",
   "execution_count": 118,
   "metadata": {},
   "outputs": [
    {
     "data": {
      "text/plain": [
       "(5314, 12)"
      ]
     },
     "execution_count": 118,
     "metadata": {},
     "output_type": "execute_result"
    }
   ],
   "source": [
    "#datfile = \"../dat/4884.csv.gz\"\n",
    "datfile = \"../dat/wildfire_yosemite.csv\"\n",
    "df = pd.read_csv(datfile)\n",
    "df.shape"
   ]
  },
  {
   "cell_type": "code",
   "execution_count": 119,
   "metadata": {},
   "outputs": [
    {
     "name": "stdout",
     "output_type": "stream",
     "text": [
      "(3582, 12)\n"
     ]
    }
   ],
   "source": [
    "# Keep original tweet, rm retweet\n",
    "df = df[df[\"rt_id\"].isna()]\n",
    "print(df.shape)"
   ]
  },
  {
   "cell_type": "code",
   "execution_count": 121,
   "metadata": {},
   "outputs": [
    {
     "data": {
      "text/plain": [
       "(504, 13)"
      ]
     },
     "execution_count": 121,
     "metadata": {},
     "output_type": "execute_result"
    }
   ],
   "source": [
    "df1 = df[df[\"user_followers_count\"]>10**4]\n",
    "df1 = df1.reset_index()\n",
    "df1.shape"
   ]
  },
  {
   "cell_type": "code",
   "execution_count": 122,
   "metadata": {},
   "outputs": [],
   "source": [
    "DC = TwitterCleaner()\n",
    "urlsearch = r'http[s]?://(?:[a-zA-Z]|[0-9]|[$-_@.&+]|[!*\\(\\), ]|(?:%[0-9a-fA-F][0-9a-fA-F]))+'\n",
    "ALL_Sentences = []\n",
    "Clean_sentences = []\n",
    "for i,row in df1.iterrows():\n",
    "    #Data.append(DC.Clean(df1.loc[i, \"text\"]))\n",
    "    sentence = df1.loc[i, \"text\"].strip(\"\\n\")\n",
    "    sentence = re.sub(r'RT\\s@[\\w]*', '', sentence)\n",
    "    sentence = re.sub(r'MT\\s@[\\w]*', '', sentence)\n",
    "    sentence = re.sub(r'@[\\w]*', '', sentence)\n",
    "    sentence = re.sub(r'#[\\w]*', '', sentence)\n",
    "    sentence = re.sub(r'&amp;', 'and', sentence)\n",
    "    sentence = re.sub(urlsearch, '', sentence)\n",
    "    #sentence = re.sub(r'[^\\w\\s]', ' ', sentence)\n",
    "    sentence = sentence.strip()\n",
    "    sentences = re.split('; |, ',sentence)\n",
    "    new_sentences = []\n",
    "    for s in sentences:\n",
    "        if \"...\" in s:\n",
    "            continue\n",
    "        new_sentences.append(s)\n",
    "    sentence = \"\".join(new_sentences)\n",
    "    if sentence == \"\":\n",
    "        continue\n",
    "    ALL_Sentences.append(sentence)\n",
    "    Clean_sentences.append(\" \".join(DC.Clean(sentence)))"
   ]
  },
  {
   "cell_type": "code",
   "execution_count": 123,
   "metadata": {},
   "outputs": [],
   "source": [
    "#for l in ALL_Sentences:\n",
    "#    print(l)"
   ]
  },
  {
   "cell_type": "code",
   "execution_count": 124,
   "metadata": {},
   "outputs": [],
   "source": [
    "sentence_vectors = Sentence2WE(Clean_sentences, word_embeddings)"
   ]
  },
  {
   "cell_type": "code",
   "execution_count": 125,
   "metadata": {},
   "outputs": [],
   "source": [
    "sim_mat = TextRankScoreMat(sentence_vectors)"
   ]
  },
  {
   "cell_type": "code",
   "execution_count": 126,
   "metadata": {},
   "outputs": [
    {
     "data": {
      "text/plain": [
       "array([[0.        , 0.74944069, 0.74302168, ..., 0.64616579, 0.60603065,\n",
       "        0.64616579],\n",
       "       [0.74944069, 0.        , 0.87957088, ..., 0.80656976, 0.83357853,\n",
       "        0.80656976],\n",
       "       [0.74302168, 0.87957088, 0.        , ..., 0.75292348, 0.81199876,\n",
       "        0.75292348],\n",
       "       ...,\n",
       "       [0.64616579, 0.80656976, 0.75292348, ..., 0.        , 0.83881187,\n",
       "        1.        ],\n",
       "       [0.60603065, 0.83357853, 0.81199876, ..., 0.83881187, 0.        ,\n",
       "        0.83881187],\n",
       "       [0.64616579, 0.80656976, 0.75292348, ..., 1.        , 0.83881187,\n",
       "        0.        ]])"
      ]
     },
     "execution_count": 126,
     "metadata": {},
     "output_type": "execute_result"
    }
   ],
   "source": [
    "sim_mat"
   ]
  },
  {
   "cell_type": "code",
   "execution_count": 127,
   "metadata": {},
   "outputs": [
    {
     "name": "stdout",
     "output_type": "stream",
     "text": [
      "128\n"
     ]
    }
   ],
   "source": [
    "threashold = 0.9\n",
    "rm_idx = []\n",
    "kept_idx = []\n",
    "for i in range(sim_mat.shape[0]):\n",
    "    if i in rm_idx:\n",
    "        continue\n",
    "    kept_idx.append(i)\n",
    "    for j in range(sim_mat.shape[1]):\n",
    "        if sim_mat[i,j]>threashold:\n",
    "            rm_idx.append(j)   \n",
    "print(len(kept_idx))"
   ]
  },
  {
   "cell_type": "code",
   "execution_count": 133,
   "metadata": {},
   "outputs": [
    {
     "data": {
      "text/plain": [
       "8442"
      ]
     },
     "execution_count": 133,
     "metadata": {},
     "output_type": "execute_result"
    }
   ],
   "source": [
    "art = []\n",
    "selected_Clean = []\n",
    "for i in kept_idx:\n",
    "    art.append(ALL_Sentences[i])\n",
    "    selected_Clean.append(Clean_sentences[i])\n",
    "    #print(i, ALL_Sentences[i])\n",
    "out = open(\"Yosemite.psodu.txt\", 'wt')\n",
    "out.write(\" \".join(art))"
   ]
  },
  {
   "cell_type": "code",
   "execution_count": 134,
   "metadata": {},
   "outputs": [],
   "source": [
    "sentence_vectors = Sentence2WE(selected_Clean, word_embeddings)\n",
    "sim_mat = TextRankScoreMat(sentence_vectors)"
   ]
  },
  {
   "cell_type": "code",
   "execution_count": 143,
   "metadata": {},
   "outputs": [
    {
     "data": {
      "text/plain": [
       "(100,)"
      ]
     },
     "execution_count": 143,
     "metadata": {},
     "output_type": "execute_result"
    }
   ],
   "source": [
    "sentence_vectors[0].shape"
   ]
  },
  {
   "cell_type": "code",
   "execution_count": 135,
   "metadata": {},
   "outputs": [],
   "source": [
    "nx_graph = nx.from_numpy_array(sim_mat)\n",
    "scores = nx.pagerank(nx_graph)"
   ]
  },
  {
   "cell_type": "code",
   "execution_count": 137,
   "metadata": {},
   "outputs": [
    {
     "name": "stdout",
     "output_type": "stream",
     "text": [
      "NOW AT 11: Wildfire near Yosemite has more than tripled in sizew/ 2,500 buildings threatened by flames. WATCH LIVE:\n",
      "Visitors flee as wildfire bears down on Yosemite - USA TODAY\n",
      "ABC News reports wildfire near Yosemite now the size of Sacramento.\n",
      "Wildfire spreads to Yosemite National Parkthreatens homes. Read more:\n",
      ": Wildfire near Yosemite National Park threatens 2,500 homeshotels and camp buildings\n",
      "Update on  :  Fire near  spreads to over 53,866 acres\n",
      "Massive California Wildfire Creeps Into Yosemite National Park. .\n",
      "San Francisco water supply safe for now despite massive wildfire burning near Hetch Hetchy.\n",
      "GRAPHIC: The California wildfire burning on the mountain rims of the Stanislaus National Forest has entered Yosemite:\n",
      "A wildfire is burning out of control near Yosemite.\n"
     ]
    }
   ],
   "source": [
    "#ranked_sentences = sorted(((scores[i],s) for i,s in enumerate(Clean_sentences)), reverse=True)\n",
    "ranked_sentences = sorted(((scores[i],s) for i,s in enumerate(art)), reverse=True)\n",
    "rank_art = []\n",
    "for i in range(10):\n",
    "    print(ranked_sentences[i][1])"
   ]
  },
  {
   "cell_type": "code",
   "execution_count": 139,
   "metadata": {},
   "outputs": [],
   "source": [
    "rank_arts = []\n",
    "for score, text in ranked_sentences:\n",
    "    #print(s,j)\n",
    "    rank_arts.append(text)"
   ]
  },
  {
   "cell_type": "code",
   "execution_count": 140,
   "metadata": {},
   "outputs": [
    {
     "data": {
      "text/plain": [
       "8442"
      ]
     },
     "execution_count": 140,
     "metadata": {},
     "output_type": "execute_result"
    }
   ],
   "source": [
    "out = open(\"Yosemite.psodu.txt\", 'wt')\n",
    "out.write(\" \".join(rank_arts))"
   ]
  },
  {
   "cell_type": "code",
   "execution_count": 144,
   "metadata": {},
   "outputs": [
    {
     "data": {
      "text/plain": [
       "(128, 100)"
      ]
     },
     "execution_count": 144,
     "metadata": {},
     "output_type": "execute_result"
    }
   ],
   "source": [
    "sentence_vectors = np.array(sentence_vectors)\n",
    "sentence_vectors.shape"
   ]
  },
  {
   "cell_type": "code",
   "execution_count": 146,
   "metadata": {},
   "outputs": [
    {
     "name": "stdout",
     "output_type": "stream",
     "text": [
      "(128, 40)\n"
     ]
    },
    {
     "data": {
      "image/png": "[encoded data removed]",
      "text/plain": [
       "<Figure size 720x480 with 4 Axes>"
      ]
     },
     "metadata": {
      "needs_background": "light"
     },
     "output_type": "display_data"
    }
   ],
   "source": [
    "pca = PCA(n_components=40, svd_solver='arpack')\n",
    "X = pca.fit_transform(sentence_vectors)\n",
    "print(X.shape)\n",
    "fig, axs = plt.subplots(2,2,dpi=120)\n",
    "for i,(j,k) in enumerate([(0,0),(0,1),(1,0),(1,1)]):\n",
    "    axs[j,k].scatter(X[:,i], X[:,i+1], s=0.1)\n",
    "    axs[j,k].set_xlabel(\"PC%d\"%(i+1))\n",
    "    axs[j,k].set_ylabel(\"PC%d\"%(i+2))\n",
    "fig.tight_layout()\n",
    "plt.show()"
   ]
  },
  {
   "cell_type": "code",
   "execution_count": 147,
   "metadata": {},
   "outputs": [
    {
     "data": {
      "image/png": "[encoded data removed]",
      "text/plain": [
       "<Figure size 432x288 with 1 Axes>"
      ]
     },
     "metadata": {
      "needs_background": "light"
     },
     "output_type": "display_data"
    }
   ],
   "source": [
    "plt.plot(np.cumsum(pca.explained_variance_ratio_))\n",
    "plt.xlabel('number of components')\n",
    "plt.ylabel('cumulative explained variance');"
   ]
  },
  {
   "cell_type": "code",
   "execution_count": 148,
   "metadata": {},
   "outputs": [],
   "source": [
    "tsne = TSNE(n_components=2)\n",
    "Y = tsne.fit_transform(X[:, :40])"
   ]
  },
  {
   "cell_type": "code",
   "execution_count": 149,
   "metadata": {},
   "outputs": [
    {
     "data": {
      "image/png": "[encoded data removed]",
      "text/plain": [
       "<Figure size 720x480 with 1 Axes>"
      ]
     },
     "metadata": {
      "needs_background": "light"
     },
     "output_type": "display_data"
    }
   ],
   "source": [
    "fig = plt.figure(dpi=120)\n",
    "ax = plt.subplot(111)\n",
    "ax.scatter(Y[:,0], Y[:,1],s=0.5)\n",
    "ax.set_xlabel(\"tSNE1\")\n",
    "ax.set_ylabel(\"tSNE2\")\n",
    "plt.show()"
   ]
  },
  {
   "cell_type": "code",
   "execution_count": null,
   "metadata": {},
   "outputs": [],
   "source": []
  }
 ],
 "metadata": {
  "kernelspec": {
   "display_name": "Python 3",
   "language": "python",
   "name": "python3"
  },
  "language_info": {
   "codemirror_mode": {
    "name": "ipython",
    "version": 3
   },
   "file_extension": ".py",
   "mimetype": "text/x-python",
   "name": "python",
   "nbconvert_exporter": "python",
   "pygments_lexer": "ipython3",
   "version": "3.7.6"
  }
 },
 "nbformat": 4,
 "nbformat_minor": 2
}
